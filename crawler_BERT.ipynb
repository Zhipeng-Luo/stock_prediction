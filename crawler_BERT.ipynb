{
 "cells": [
  {
   "cell_type": "code",
   "execution_count": 2,
   "id": "010ab108",
   "metadata": {},
   "outputs": [
    {
     "name": "stderr",
     "output_type": "stream",
     "text": [
      "E:\\ProgramData\\Anaconda3\\lib\\site-packages\\finpie\\news_data\\clean_news.py:126: SettingWithCopyWarning: \n",
      "A value is trying to be set on a copy of a slice from a DataFrame\n",
      "\n",
      "See the caveats in the documentation: https://pandas.pydata.org/pandas-docs/stable/user_guide/indexing.html#returning-a-view-versus-a-copy\n",
      "  try:\n"
     ]
    }
   ],
   "source": [
    "from finpie import NewsData #\n",
    "import pandas as pd\n",
    "news = NewsData('MSFT', 'microsoft')\n",
    "df = news.cnbc(datestop = '2018-12-31')\n",
    "# filter news headlines with a keyword list\n",
    "# news.filterz = [ 'exxon', 'mobil', 'oil', 'energy' ]\n",
    "# df = news.filter_data(df)"
   ]
  },
  {
   "cell_type": "code",
   "execution_count": 4,
   "id": "b1aa4b7d",
   "metadata": {},
   "outputs": [],
   "source": [
    "df.to_csv('cnbc_msft_190101.csv')"
   ]
  },
  {
   "cell_type": "code",
   "execution_count": 1,
   "id": "568021cc",
   "metadata": {},
   "outputs": [
    {
     "data": {
      "application/vnd.jupyter.widget-view+json": {
       "model_id": "4a0e8ba007ae402c84afec1a1e4902ec",
       "version_major": 2,
       "version_minor": 0
      },
      "text/plain": [
       "Downloading:   0%|          | 0.00/226k [00:00<?, ?B/s]"
      ]
     },
     "metadata": {},
     "output_type": "display_data"
    },
    {
     "data": {
      "application/vnd.jupyter.widget-view+json": {
       "model_id": "15aaeaa9f135448189d3614e6be5fa01",
       "version_major": 2,
       "version_minor": 0
      },
      "text/plain": [
       "Downloading:   0%|          | 0.00/112 [00:00<?, ?B/s]"
      ]
     },
     "metadata": {},
     "output_type": "display_data"
    },
    {
     "data": {
      "application/vnd.jupyter.widget-view+json": {
       "model_id": "4063d7af2a084286a4492079ca1752e0",
       "version_major": 2,
       "version_minor": 0
      },
      "text/plain": [
       "Downloading:   0%|          | 0.00/418M [00:00<?, ?B/s]"
      ]
     },
     "metadata": {},
     "output_type": "display_data"
    },
    {
     "name": "stdout",
     "output_type": "stream",
     "text": [
      "0 350 (350, 3)\n",
      "350 700 (700, 3)\n",
      "700 1050 (1050, 3)\n",
      "1050 1400 (1400, 3)\n",
      "1400 1750 (1750, 3)\n",
      "1750 2100 (2100, 3)\n",
      "2100 2450 (2450, 3)\n",
      "2450 2800 (2800, 3)\n",
      "2800 3150 (3150, 3)\n",
      "3150 3500 (3500, 3)\n",
      "3500 3850 (3850, 3)\n",
      "3850 4200 (4200, 3)\n",
      "4200 4550 (4550, 3)\n",
      "4550 4900 (4900, 3)\n",
      "4900 5250 (5250, 3)\n",
      "5250 5600 (5300, 3)\n"
     ]
    }
   ],
   "source": [
    "# Use bert to compute positive neural negative\n",
    "from transformers import AutoTokenizer, AutoModelForSequenceClassification\n",
    "import torch, time, gc\n",
    "import numpy as np\n",
    "import pandas as pd\n",
    "\n",
    "df = pd.read_csv('cnbc_msft_190101.csv')\n",
    "final = np.array([[0, 0, 0]])\n",
    "tokenizer = AutoTokenizer.from_pretrained(\"ProsusAI/finbert\")\n",
    "model = AutoModelForSequenceClassification.from_pretrained(\"ProsusAI/finbert\")\n",
    "base = 350\n",
    "upper = (len(df) // base) + 1\n",
    "\n",
    "for i in range(0, upper):\n",
    "  index1 = base * i\n",
    "  index2 = base * (i + 1)\n",
    "\n",
    "  if index2 > len(df):\n",
    "      df_buf = df.loc[index1:, :]\n",
    "      headlines_list = list(df_buf.loc[:, 'headline'])\n",
    "      inputs = tokenizer(headlines_list, padding = True, truncation = True, return_tensors='pt')\n",
    "      outputs = model(**inputs)\n",
    "      predictions = torch.nn.functional.softmax(outputs.logits, dim=-1)\n",
    "      output = predictions.detach().numpy()\n",
    "\n",
    "  else:\n",
    "      df_buf = df.loc[index1:index2, :]\n",
    "      headlines_list = list(df_buf.loc[:, 'headline'])\n",
    "      inputs = tokenizer(headlines_list, padding = True, truncation = True, return_tensors='pt')\n",
    "      outputs = model(**inputs)\n",
    "      predictions = torch.nn.functional.softmax(outputs.logits, dim=-1)\n",
    "      output = predictions.detach().numpy()\n",
    "      output = output[:-1]\n",
    "\n",
    "\n",
    "  final = np.concatenate([final, output])\n",
    "  if index1 == 0:\n",
    "      final = final[1:]\n",
    "  del inputs, predictions, tokenizer, model\n",
    "  gc.collect()\n",
    "#     time.sleep(5)\n",
    "\n",
    "  tokenizer = AutoTokenizer.from_pretrained(\"ProsusAI/finbert\")\n",
    "  model = AutoModelForSequenceClassification.from_pretrained(\"ProsusAI/finbert\")\n",
    "  print(index1, index2, final.shape)\n",
    "\n",
    "list_date = list(df['date'])\n",
    "list_headline = list(df['headline'])\n",
    "\n",
    "#Formatting the results as a pandas data frame\n",
    "\n",
    "import pandas as pd\n",
    "final_n = final.copy()\n",
    "#Headline #Positive #Negative #Neutral\n",
    "positive = final_n[:, 0].tolist()\n",
    "negative = final_n[:, 1].tolist()\n",
    "neutral = final_n[:, 2].tolist()\n",
    "\n",
    "table = {'date':list_date,\n",
    "        'Headline':list_headline,\n",
    "         \"Positive\":positive,\n",
    "         \"Negative\":negative, \n",
    "         \"Neutral\":neutral}\n",
    "      \n",
    "df = pd.DataFrame(table, columns = ['date', \"Headline\", \"Positive\", \"Negative\", \"Neutral\"])\n",
    "df.to_csv('BERT_cnbc_msft_190101.csv')\n"
   ]
  },
  {
   "cell_type": "code",
   "execution_count": null,
   "id": "e73c93d8",
   "metadata": {},
   "outputs": [],
   "source": []
  }
 ],
 "metadata": {
  "kernelspec": {
   "display_name": "Python 3 (ipykernel)",
   "language": "python",
   "name": "python3"
  },
  "language_info": {
   "codemirror_mode": {
    "name": "ipython",
    "version": 3
   },
   "file_extension": ".py",
   "mimetype": "text/x-python",
   "name": "python",
   "nbconvert_exporter": "python",
   "pygments_lexer": "ipython3",
   "version": "3.9.7"
  }
 },
 "nbformat": 4,
 "nbformat_minor": 5
}
